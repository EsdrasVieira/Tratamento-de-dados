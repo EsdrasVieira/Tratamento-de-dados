{
 "cells": [
  {
   "cell_type": "code",
   "execution_count": null,
   "id": "1687cf94",
   "metadata": {},
   "outputs": [
    {
     "name": "stderr",
     "output_type": "stream",
     "text": [
      "2024-02-20 08:44:15,956 INFO Welcome to the CDS\n",
      "2024-02-20 08:44:15,957 INFO Sending request to https://cds.climate.copernicus.eu/api/v2/resources/reanalysis-era5-pressure-levels\n",
      "2024-02-20 08:44:16,222 INFO Request is queued\n"
     ]
    }
   ],
   "source": [
    "#Eólica Offshore 975 HPA\n",
    "import cdsapi\n",
    "\n",
    "c = cdsapi.Client()\n",
    "\n",
    "c.retrieve(\n",
    "    'reanalysis-era5-pressure-levels',\n",
    "    {\n",
    "        'product_type': 'reanalysis',\n",
    "        'format': 'netcdf',\n",
    "        'variable': [\n",
    "            'u_component_of_wind', 'v_component_of_wind',\n",
    "        ],\n",
    "        'pressure_level': '975',\n",
    "        'year': '2022',\n",
    "        'month': [\n",
    "            '01', '02', '03',\n",
    "            '04', '05', '06',\n",
    "            '07', '08', '09',\n",
    "            '10', '11', '12',\n",
    "        ],\n",
    "        'day': [\n",
    "            '01', '02', '03',\n",
    "            '04', '05', '06',\n",
    "            '07', '08', '09',\n",
    "            '10', '11', '12',\n",
    "            '13', '14', '15',\n",
    "            '16', '17', '18',\n",
    "            '19', '20', '21',\n",
    "            '22', '23', '24',\n",
    "            '25', '26', '27',\n",
    "            '28', '29', '30',\n",
    "            '31',\n",
    "        ],\n",
    "        'time': [\n",
    "            '00:00', '01:00', '02:00',\n",
    "            '03:00', '04:00', '05:00',\n",
    "            '06:00', '07:00', '08:00',\n",
    "            '09:00', '10:00', '11:00',\n",
    "            '12:00', '13:00', '14:00',\n",
    "            '15:00', '16:00', '17:00',\n",
    "            '18:00', '19:00', '20:00',\n",
    "            '21:00', '22:00', '23:00',\n",
    "        ],\n",
    "        'area': [\n",
    "            90, -180, -90,\n",
    "            180,\n",
    "        ],\n",
    "    },\n",
    "    'Era5_2022_975HPA_CAMPOS.nc')\n",
    "import xarray as xr\n",
    "\n",
    "titulo = \"Marcação das Plataformas na Bacia de Campos Desativadas\"\n",
    "\n",
    "titulo_html = \"\"\"<h1 align=\"center\" style=\"font-family: verdana; font-size:16px; font-weight:bold; text-transform: uppercase;\">{}</h1>\"\"\".format(titulo)\n"
   ]
  },
  {
   "cell_type": "code",
   "execution_count": 1,
   "id": "1330fed0",
   "metadata": {},
   "outputs": [
    {
     "name": "stdout",
     "output_type": "stream",
     "text": [
      "                          DJF       MAM       JJA       SON\n",
      "NAMORADO 2 (PNA-2)   9.475721  7.924184  9.213656  9.869316\n",
      "PETROBRAS 26 (P-26)  9.288411  7.441793  8.791594  9.747815\n",
      "PETROBRAS 32 (P-32)  9.486877  7.713918  8.977642  9.956941\n",
      "PETROBRAS 37 (P-37)  9.288411  7.441793  8.791594  9.747815\n",
      "PETROBRAS IX         9.459324  8.180786  9.354595  9.801778\n",
      "PETROBRAS XIX        9.288411  7.441793  8.791594  9.747815\n",
      "PETROBRAS XXXIII      9.28892  7.430235  8.717838  9.801046\n",
      "VERMELHO 1 (PVM-1)   9.486877  7.713918  8.977642  9.956941\n",
      "VERMELHO 2 (PVM-2)   9.486877  7.713918  8.977642  9.956941\n"
     ]
    }
   ],
   "source": [
    "import xarray as xr\n",
    "import matplotlib.pyplot as plt\n",
    "import cartopy.crs as ccrs\n",
    "import pandas as pd\n",
    "\n",
    "# Carrega o arquivo NetCDF com os dados\n",
    "ds = xr.open_dataset('Era5_2022_975HPA_CAMPOS.nc', engine='netcdf4')\n",
    "\n",
    "# Calcula a velocidade do vento (wspd) a partir das componentes u e v\n",
    "u = ds['u']\n",
    "v = ds['v']\n",
    "wspd = (u**2 + v**2)**0.5\n",
    "\n",
    "# Calcula a média da velocidade do vento para cada ponto de grade ao longo dos horários e dias, agrupando por estação do ano\n",
    "wspd_mean_season = wspd.groupby('time.season').mean(dim=['time'])\n",
    "\n",
    "# Adiciona marcadores para as localizações das plataformas de petróleo e gás\n",
    "platforms = {\n",
    "    'NAMORADO 2 (PNA-2)' :(-22.45073, -40.41175),\n",
    "    'PETROBRAS 26 (P-26)' :(-22.4684, -40.02869),\n",
    "    'PETROBRAS 32 (P-32)' :(-22.2051, -40.1431),\n",
    "    'PETROBRAS 37 (P-37)' :(-22.4868, -40.09779),\n",
    "    'PETROBRAS IX' :(-22.57358, -40.82192),\n",
    "    'PETROBRAS XIX' :(-22.3927, -40.05438),\n",
    "    'PETROBRAS XXXIII' :(-22.37, -40.0267),\n",
    "    'VERMELHO 1 (PVM-1)' :(-22.16065, -40.27872),\n",
    "    'VERMELHO 2 (PVM-2)' :(-22.17535, -40.29147),\n",
    "}\n",
    "\n",
    "# Cria um DataFrame para armazenar os resultados\n",
    "result_df = pd.DataFrame(index=platforms.keys(), columns=['DJF', 'MAM', 'JJA', 'SON'])\n",
    "\n",
    "# Loop sobre as estações do ano\n",
    "for season in ['DJF', 'MAM', 'JJA', 'SON']:\n",
    "    for platform, (lat, lon) in platforms.items():\n",
    "        # Obtém o valor da média da velocidade do vento para a plataforma e estação do ano específicos\n",
    "        value = wspd_mean_season.sel(season=season).interp(latitude=lat, longitude=lon, method='nearest').values.item()\n",
    "        result_df.at[platform, season] = value\n",
    "\n",
    "# Exibe o DataFrame\n",
    "print(result_df)\n",
    "\n",
    "# Fecha o arquivo NetCDF\n",
    "ds.close()\n"
   ]
  },
  {
   "cell_type": "code",
   "execution_count": null,
   "id": "ce9499f3",
   "metadata": {},
   "outputs": [],
   "source": []
  }
 ],
 "metadata": {
  "kernelspec": {
   "display_name": "Python 3 (ipykernel)",
   "language": "python",
   "name": "python3"
  },
  "language_info": {
   "codemirror_mode": {
    "name": "ipython",
    "version": 3
   },
   "file_extension": ".py",
   "mimetype": "text/x-python",
   "name": "python",
   "nbconvert_exporter": "python",
   "pygments_lexer": "ipython3",
   "version": "3.11.4"
  }
 },
 "nbformat": 4,
 "nbformat_minor": 5
}
