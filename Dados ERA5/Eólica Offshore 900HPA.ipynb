{
 "cells": [
  {
   "cell_type": "code",
   "execution_count": null,
   "id": "3b73fac4",
   "metadata": {},
   "outputs": [
    {
     "name": "stderr",
     "output_type": "stream",
     "text": [
      "2024-02-19 21:56:53,414 INFO Welcome to the CDS\n",
      "2024-02-19 21:56:53,416 INFO Sending request to https://cds.climate.copernicus.eu/api/v2/resources/reanalysis-era5-pressure-levels\n",
      "2024-02-19 21:56:53,741 INFO Request is queued\n"
     ]
    }
   ],
   "source": [
    "#Eólica Offshore 900HPA\n",
    "\n",
    "import cdsapi\n",
    "\n",
    "c = cdsapi.Client()\n",
    "\n",
    "c.retrieve(\n",
    "    'reanalysis-era5-pressure-levels',\n",
    "    {\n",
    "        'product_type': 'reanalysis',\n",
    "        'format': 'netcdf',\n",
    "        'variable': [\n",
    "            'u_component_of_wind', 'v_component_of_wind',\n",
    "        ],\n",
    "        'pressure_level': '900',\n",
    "        'year': '2022',\n",
    "         'month': [\n",
    "            '01', '02', '03',\n",
    "            '04', '05', '06',\n",
    "            '07', '08', '09',\n",
    "            '10', '11', '12',\n",
    "        ],\n",
    "        'day': [\n",
    "            '01', '02', '03',\n",
    "            '04', '05', '06',\n",
    "            '07', '08', '09',\n",
    "            '10', '11', '12',\n",
    "            '13', '14', '15',\n",
    "            '16', '17', '18',\n",
    "            '19', '20', '21',\n",
    "            '22', '23', '24',\n",
    "            '25', '26', '27',\n",
    "            '28', '29', '30',\n",
    "            '31',\n",
    "        ],\n",
    "        'time': [\n",
    "            '00:00', '01:00', '02:00',\n",
    "            '03:00', '04:00', '05:00',\n",
    "            '06:00', '07:00', '08:00',\n",
    "            '09:00', '10:00', '11:00',\n",
    "            '12:00', '13:00', '14:00',\n",
    "            '15:00', '16:00', '17:00',\n",
    "            '18:00', '19:00', '20:00',\n",
    "            '21:00', '22:00', '23:00',\n",
    "        ],\n",
    "        'area': [\n",
    "            -27, -45, -20, -35,  # Coordenadas da Bacia de Campos e um pouco mais pegando a costa brasileira\n",
    "        ],\n",
    "    },\n",
    "    'Era5_2022_900HPA_CAMPOS.nc')\n",
    "import xarray as xr\n",
    "\n",
    "titulo = \"Marcação das Plataformas na Bacia de Campos Desativadas\"\n",
    "\n",
    "titulo_html = \"\"\"<h1 align=\"center\" style=\"font-family: verdana; font-size:16px; font-weight:bold; text-transform: uppercase;\">{}</h1>\"\"\".format(titulo)\n"
   ]
  },
  {
   "cell_type": "code",
   "execution_count": 1,
   "id": "ded7548b",
   "metadata": {},
   "outputs": [
    {
     "name": "stdout",
     "output_type": "stream",
     "text": [
      "                          DJF       MAM       JJA       SON\n",
      "NAMORADO 2 (PNA-2)   7.815628   6.50763  7.512934  7.637858\n",
      "PETROBRAS 26 (P-26)  8.160973  6.485685  7.580131  8.118124\n",
      "PETROBRAS 32 (P-32)  7.932516  6.409301   7.42309  7.784792\n",
      "PETROBRAS 37 (P-37)  8.160973  6.485685  7.580131  8.118124\n",
      "PETROBRAS IX         7.505828   6.39218  7.385641  7.348935\n",
      "PETROBRAS XIX        8.160973  6.485685  7.580131  8.118124\n",
      "PETROBRAS XXXIII     8.079949  6.404923  7.452581  8.032288\n",
      "VERMELHO 1 (PVM-1)   7.932516  6.409301   7.42309  7.784792\n",
      "VERMELHO 2 (PVM-2)   7.932516  6.409301   7.42309  7.784792\n"
     ]
    }
   ],
   "source": [
    "import xarray as xr\n",
    "import matplotlib.pyplot as plt\n",
    "import cartopy.crs as ccrs\n",
    "import pandas as pd\n",
    "\n",
    "# Carrega o arquivo NetCDF com os dados\n",
    "ds = xr.open_dataset('Era5_2022_900HPA_CAMPOS.nc', engine='netcdf4')\n",
    "\n",
    "# Calcula a velocidade do vento (wspd) a partir das componentes u e v\n",
    "u = ds['u']\n",
    "v = ds['v']\n",
    "wspd = (u**2 + v**2)**0.5\n",
    "\n",
    "# Calcula a média da velocidade do vento para cada ponto de grade ao longo dos horários e dias, agrupando por estação do ano\n",
    "wspd_mean_season = wspd.groupby('time.season').mean(dim=['time'])\n",
    "\n",
    "# Adiciona marcadores para as localizações das plataformas de petróleo e gás\n",
    "platforms = {\n",
    "    'NAMORADO 2 (PNA-2)' :(-22.45073, -40.41175),\n",
    "    'PETROBRAS 26 (P-26)' :(-22.4684, -40.02869),\n",
    "    'PETROBRAS 32 (P-32)' :(-22.2051, -40.1431),\n",
    "    'PETROBRAS 37 (P-37)' :(-22.4868, -40.09779),\n",
    "    'PETROBRAS IX' :(-22.57358, -40.82192),\n",
    "    'PETROBRAS XIX' :(-22.3927, -40.05438),\n",
    "    'PETROBRAS XXXIII' :(-22.37, -40.0267),\n",
    "    'VERMELHO 1 (PVM-1)' :(-22.16065, -40.27872),\n",
    "    'VERMELHO 2 (PVM-2)' :(-22.17535, -40.29147),\n",
    "}\n",
    "\n",
    "# Cria um DataFrame para armazenar os resultados\n",
    "result_df = pd.DataFrame(index=platforms.keys(), columns=['DJF', 'MAM', 'JJA', 'SON'])\n",
    "\n",
    "# Loop sobre as estações do ano\n",
    "for season in ['DJF', 'MAM', 'JJA', 'SON']:\n",
    "    for platform, (lat, lon) in platforms.items():\n",
    "        # Obtém o valor da média da velocidade do vento para a plataforma e estação do ano específicos\n",
    "        value = wspd_mean_season.sel(season=season).interp(latitude=lat, longitude=lon, method='nearest').values.item()\n",
    "        result_df.at[platform, season] = value\n",
    "\n",
    "# Exibe o DataFrame\n",
    "print(result_df)\n",
    "\n",
    "# Fecha o arquivo NetCDF\n",
    "ds.close()"
   ]
  },
  {
   "cell_type": "code",
   "execution_count": null,
   "id": "b5f6918d",
   "metadata": {},
   "outputs": [],
   "source": []
  }
 ],
 "metadata": {
  "kernelspec": {
   "display_name": "Python 3 (ipykernel)",
   "language": "python",
   "name": "python3"
  },
  "language_info": {
   "codemirror_mode": {
    "name": "ipython",
    "version": 3
   },
   "file_extension": ".py",
   "mimetype": "text/x-python",
   "name": "python",
   "nbconvert_exporter": "python",
   "pygments_lexer": "ipython3",
   "version": "3.11.4"
  }
 },
 "nbformat": 4,
 "nbformat_minor": 5
}
