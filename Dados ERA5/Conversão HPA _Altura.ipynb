{
 "cells": [
  {
   "cell_type": "code",
   "execution_count": 3,
   "id": "ba8e6412",
   "metadata": {},
   "outputs": [
    {
     "name": "stdout",
     "output_type": "stream",
     "text": [
      "A altura correspondente para P(h)=87.5 é aproximadamente 130.03 metros.\n",
      "A altura correspondente para P(h)=90.0 é aproximadamente 105.06 metros.\n",
      "A altura correspondente para P(h)=92.5 é aproximadamente 80.77 metros.\n",
      "A altura correspondente para P(h)=95.0 é aproximadamente 57.13 metros.\n",
      "A altura correspondente para P(h)=97.5 é aproximadamente 34.11 metros.\n",
      "A altura correspondente para P(h)=100.0 é aproximadamente 11.67 metros.\n"
     ]
    }
   ],
   "source": [
    "import math\n",
    "\n",
    "def calcular_altura(PA, k, P_h, g):\n",
    "    altura = -math.log(P_h / PA) / (k * g)\n",
    "    return altura\n",
    "\n",
    "def main():\n",
    "    # Entrada dos valores fornecidos pelo usuário\n",
    "    PA = 101.325\n",
    "    k = 1.15e-4\n",
    "    g = 9.81\n",
    "\n",
    "    # Lista de valores de P(h)\n",
    "    valores_P_h = [87.5, 90.0,92.5, 95.0,97.5, 100.0]  # Exemplo de lista de valores de P(h)\n",
    "\n",
    "    # Cálculo da altura para cada valor de P(h)\n",
    "    for P_h in valores_P_h:\n",
    "        altura = calcular_altura(PA, k, P_h, g)\n",
    "        print(f\"A altura correspondente para P(h)={P_h} é aproximadamente {altura:.2f} metros.\")\n",
    "\n",
    "if __name__ == \"__main__\":\n",
    "    main()"
   ]
  },
  {
   "cell_type": "code",
   "execution_count": null,
   "id": "26e4a38d",
   "metadata": {},
   "outputs": [],
   "source": []
  }
 ],
 "metadata": {
  "kernelspec": {
   "display_name": "Python 3 (ipykernel)",
   "language": "python",
   "name": "python3"
  },
  "language_info": {
   "codemirror_mode": {
    "name": "ipython",
    "version": 3
   },
   "file_extension": ".py",
   "mimetype": "text/x-python",
   "name": "python",
   "nbconvert_exporter": "python",
   "pygments_lexer": "ipython3",
   "version": "3.11.4"
  }
 },
 "nbformat": 4,
 "nbformat_minor": 5
}
