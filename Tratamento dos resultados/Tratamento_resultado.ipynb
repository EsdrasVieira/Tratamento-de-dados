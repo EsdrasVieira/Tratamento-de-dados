{
 "cells": [
  {
   "cell_type": "code",
   "execution_count": 4,
   "id": "382d8613",
   "metadata": {},
   "outputs": [
    {
     "name": "stdout",
     "output_type": "stream",
     "text": [
      "Index\tX\tY\tZ\n"
     ]
    }
   ],
   "source": [
    "import vtk\n",
    "\n",
    "# Carregando o arquivo VTK\n",
    "reader = vtk.vtkUnstructuredGridReader()\n",
    "reader.SetFileName('resultado.vtk')\n",
    "reader.Update()\n",
    "\n",
    "# Obtendo os dados\n",
    "data = reader.GetOutput()\n",
    "\n",
    "# Obtendo o número de pontos\n",
    "num_points = data.GetNumberOfPoints()\n",
    "\n",
    "# Imprimindo os valores em uma tabela\n",
    "print(\"Index\\tX\\tY\\tZ\")\n",
    "for i in range(num_points):\n",
    "    point = data.GetPoint(i)\n",
    "    print(\"{}\\t{}\\t{}\\t{}\".format(i, point[0], point[1], point[2]))\n"
   ]
  },
  {
   "cell_type": "code",
   "execution_count": null,
   "id": "61abf02f",
   "metadata": {},
   "outputs": [],
   "source": []
  }
 ],
 "metadata": {
  "kernelspec": {
   "display_name": "Python 3 (ipykernel)",
   "language": "python",
   "name": "python3"
  },
  "language_info": {
   "codemirror_mode": {
    "name": "ipython",
    "version": 3
   },
   "file_extension": ".py",
   "mimetype": "text/x-python",
   "name": "python",
   "nbconvert_exporter": "python",
   "pygments_lexer": "ipython3",
   "version": "3.11.4"
  }
 },
 "nbformat": 4,
 "nbformat_minor": 5
}
